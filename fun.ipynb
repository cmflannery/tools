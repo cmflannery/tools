{
 "cells": [
  {
   "cell_type": "code",
   "execution_count": 5,
   "metadata": {},
   "outputs": [],
   "source": [
    "import os\n",
    "import plotly.offline as py\n",
    "import plotly.graph_objs as go\n",
    "\n",
    "# traverse root directory, and list directories as dirs and files as files\n",
    "filetypes = {}\n",
    "for root, dirs, files in os.walk(\".\"):\n",
    "    for f in files:\n",
    "        filename, fileextnsion = os.path.splitext(f)\n",
    "        try:\n",
    "            filetypes[fileextnsion] = filetypes[fileextnsion] + 1\n",
    "        except KeyError:\n",
    "            filetypes[fileextnsion] = 1"
   ]
  },
  {
   "cell_type": "code",
   "execution_count": 9,
   "metadata": {},
   "outputs": [
    {
     "data": {
      "text/html": [
       "<script>requirejs.config({paths: { 'plotly': ['https://cdn.plot.ly/plotly-latest.min']},});if(!window.Plotly) {{require(['plotly'],function(plotly) {window.Plotly=plotly;});}}</script>"
      ],
      "text/vnd.plotly.v1+html": [
       "<script>requirejs.config({paths: { 'plotly': ['https://cdn.plot.ly/plotly-latest.min']},});if(!window.Plotly) {{require(['plotly'],function(plotly) {window.Plotly=plotly;});}}</script>"
      ]
     },
     "metadata": {},
     "output_type": "display_data"
    }
   ],
   "source": [
    "py.init_notebook_mode(connected=True)"
   ]
  },
  {
   "cell_type": "code",
   "execution_count": 24,
   "metadata": {},
   "outputs": [
    {
     "data": {
      "application/vnd.plotly.v1+json": {
       "data": [
        {
         "type": "bar",
         "x": [
          ".ipynb",
          ".py",
          ".md",
          ".png",
          ".sample"
         ],
         "y": [
          4,
          4,
          1,
          1,
          10
         ]
        }
       ],
       "layout": {}
      },
      "text/html": [
       "<div id=\"0c5c3245-d9e6-47f1-b6ad-74a103ae4155\" style=\"height: 525px; width: 100%;\" class=\"plotly-graph-div\"></div><script type=\"text/javascript\">require([\"plotly\"], function(Plotly) { window.PLOTLYENV=window.PLOTLYENV || {};window.PLOTLYENV.BASE_URL=\"https://plot.ly\";Plotly.newPlot(\"0c5c3245-d9e6-47f1-b6ad-74a103ae4155\", [{\"type\": \"bar\", \"x\": [\".ipynb\", \".py\", \".md\", \".png\", \".sample\"], \"y\": [4, 4, 1, 1, 10]}], {}, {\"showLink\": true, \"linkText\": \"Export to plot.ly\"})});</script>"
      ],
      "text/vnd.plotly.v1+html": [
       "<div id=\"0c5c3245-d9e6-47f1-b6ad-74a103ae4155\" style=\"height: 525px; width: 100%;\" class=\"plotly-graph-div\"></div><script type=\"text/javascript\">require([\"plotly\"], function(Plotly) { window.PLOTLYENV=window.PLOTLYENV || {};window.PLOTLYENV.BASE_URL=\"https://plot.ly\";Plotly.newPlot(\"0c5c3245-d9e6-47f1-b6ad-74a103ae4155\", [{\"type\": \"bar\", \"x\": [\".ipynb\", \".py\", \".md\", \".png\", \".sample\"], \"y\": [4, 4, 1, 1, 10]}], {}, {\"showLink\": true, \"linkText\": \"Export to plot.ly\"})});</script>"
      ]
     },
     "metadata": {},
     "output_type": "display_data"
    }
   ],
   "source": [
    "labels = list(filetypes.keys())\n",
    "values = [filetypes[label] for label in labels]\n",
    "\n",
    "trace = go.Pie(labels=labels, values=values)\n",
    "\n",
    "data = [go.Bar(\n",
    "            x=labels,\n",
    "            y=values\n",
    "    )]\n",
    "\n",
    "py.iplot(data, filename='basic-bar')"
   ]
  }
 ],
 "metadata": {
  "kernelspec": {
   "display_name": "Python 3",
   "language": "python",
   "name": "python3"
  },
  "language_info": {
   "codemirror_mode": {
    "name": "ipython",
    "version": 3
   },
   "file_extension": ".py",
   "mimetype": "text/x-python",
   "name": "python",
   "nbconvert_exporter": "python",
   "pygments_lexer": "ipython3",
   "version": "3.6.3"
  }
 },
 "nbformat": 4,
 "nbformat_minor": 2
}
